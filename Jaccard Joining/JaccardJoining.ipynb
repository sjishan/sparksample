{
 "cells": [
  {
   "cell_type": "code",
   "execution_count": 3,
   "metadata": {
    "collapsed": true
   },
   "outputs": [],
   "source": [
    "import os\n",
    "import sys\n",
    "#iPython Notebook and Apache Spark path appending\n",
    "os.environ['SPARK_HOME']=\"S:/spark/spark-1.5.2-bin-hadoop2.6/spark-1.5.2-bin-hadoop2.6\"\n",
    "sys.path.append(\"S:/spark/spark-1.5.2-bin-hadoop2.6/spark-1.5.2-bin-hadoop2.6/bin\")\n",
    "sys.path.append(\"S:/spark/spark-1.5.2-bin-hadoop2.6/spark-1.5.2-bin-hadoop2.6/python\")\n",
    "sys.path.append(\"S:/spark/spark-1.5.2-bin-hadoop2.6/spark-1.5.2-bin-hadoop2.6/python/pyspark\")\n",
    "sys.path.append(\"S:/spark/spark-1.5.2-bin-hadoop2.6/spark-1.5.2-bin-hadoop2.6/python/lib\")\n",
    "sys.path.append(\"S:/spark/spark-1.5.2-bin-hadoop2.6/spark-1.5.2-bin-hadoop2.6/python/lib/pyspark.zip\")\n",
    "sys.path.append(\"S:/spark/spark-1.5.2-bin-hadoop2.6/spark-1.5.2-bin-hadoop2.6/python/lib/py4j-0.8.2.1-src.zip\")\n",
    "sys.path.append(\"C:/Program Files/Java/jre1.8.0_60/bin\")"
   ]
  },
  {
   "cell_type": "code",
   "execution_count": 4,
   "metadata": {
    "collapsed": false
   },
   "outputs": [],
   "source": [
    "import re\n",
    "from pyspark import SparkContext, SparkConf\n",
    "from pyspark.sql import SQLContext\n",
    "from pyspark.sql.functions import *\n",
    "from pyspark.sql.types import *\n",
    "from pyspark.ml.feature import HashingTF, IDF\n",
    "import operator\n",
    "\n",
    "SparkContext.setSystemProperty(\"hadoop.home.dir\", \"S:\\\\spark\\\\winutil\\\\\") # For Windows Only\n",
    "\n",
    "\n",
    "conf = SparkConf().setAppName(\"Entity Resolution\")\n",
    "sc = SparkContext(conf=conf)\n",
    "sqlCt = SQLContext(sc)"
   ]
  },
  {
   "cell_type": "code",
   "execution_count": 26,
   "metadata": {
    "collapsed": true
   },
   "outputs": [],
   "source": [
    "df1 = sqlCt.read.parquet(\"S:/data/amazon-google-sample/Amazon_sample\").cache()"
   ]
  },
  {
   "cell_type": "code",
   "execution_count": 27,
   "metadata": {
    "collapsed": false
   },
   "outputs": [
    {
     "name": "stdout",
     "output_type": "stream",
     "text": [
      "+----------+--------------------+--------------------+--------------------+------+\n",
      "|        id|               title|         description|        manufacturer| price|\n",
      "+----------+--------------------+--------------------+--------------------+------+\n",
      "|b0002mg5uk|  iview mediapro 2.5|                    |    global marketing|199.99|\n",
      "|b0002jtvng|bias deck le 3.5 ...|if you want to re...|                bias|  99.0|\n",
      "|b0007lw22g|apple ilife '06 (...|ilife '06 is the ...|      apple computer|  79.0|\n",
      "|b00007kh02|extensis intellih...|extensis intellih...|extensis corporation|199.99|\n",
      "|b000saufpw|dk amazing animal...|meet your cd host...|global software p...|  9.99|\n",
      "|b000v7vz1u|onone essentials ...|                    |      onone software| 59.95|\n",
      "|b00006hvvo|upg sgms 1000 inc...|today enterprises...|  sonic systems inc.|   0.0|\n",
      "|b0000vyk1o|    power director 3|powerdirector 3 -...|avanquest publish...| 79.95|\n",
      "|b000jx1kma|aircraft power pa...|aircraft powerpac...|            red mile| 29.99|\n",
      "|b000licg1m|power production ...|with storyboard a...|    power production|   0.0|\n",
      "|b00002s6sc|punch 5 in 1 home...|5 in 1 home desig...|     punch! software| 39.99|\n",
      "|b000gaqlxe|aquazone bass edi...|aquazone bass edi...|smith micro software| 19.99|\n",
      "|b00013wh0w|handmark oxford a...|the oxford americ...|       handmark inc.|   0.0|\n",
      "|b000ndibbo|adobe indesign cs...|note: this is the...|               adobe| 199.0|\n",
      "|b000ndibge|adobe creative su...|adobe creative su...|               adobe| 999.0|\n",
      "|b000in8n30|             hijack2|                    |  navarre (software)| 39.95|\n",
      "+----------+--------------------+--------------------+--------------------+------+\n",
      "\n"
     ]
    }
   ],
   "source": [
    "df1.show()"
   ]
  },
  {
   "cell_type": "code",
   "execution_count": 28,
   "metadata": {
    "collapsed": true
   },
   "outputs": [],
   "source": [
    "df2 = sqlCt.read.parquet(\"S:/data/amazon-google-sample/Google_sample\").cache()"
   ]
  },
  {
   "cell_type": "code",
   "execution_count": 29,
   "metadata": {
    "collapsed": false
   },
   "outputs": [
    {
     "name": "stdout",
     "output_type": "stream",
     "text": [
      "+--------------------+--------------------+--------------------+-------------------+--------+\n",
      "|                  id|                name|         description|       manufacturer|   price|\n",
      "+--------------------+--------------------+--------------------+-------------------+--------+\n",
      "|http://www.google...|punch software 20...|total interior an...|     punch software|   35.99|\n",
      "|http://www.google...|onone software ic...|dynamic image enh...|     onone software|  158.99|\n",
      "|http://www.google...|adobe cs3 web sta...|system requiremen...|                   | 1035.99|\n",
      "|http://www.google...|red mile entertai...|red mile entertai...|                   |   27.97|\n",
      "|http://www.google...|sonicwall gms 100...|today enterprises...|                   |62920.89|\n",
      "|http://www.google...|hijack2 identity ...|prevent thieves f...|                   |    44.9|\n",
      "|http://www.google...|bias deck 3.5 le ...|deck 3.5 le multi...|                   |   69.95|\n",
      "|http://www.google...|iview mediapro 2....|product datasheet...|                   |  155.99|\n",
      "|http://www.google...|     apple ilife '06|system requiremen...|                   |   79.99|\n",
      "|http://www.google...|onone software es...|                    |                   |   59.33|\n",
      "|http://www.google...|palmspring softwa...|oxford american d...|palmspring software|    24.2|\n",
      "|http://www.google...|cyberlink power d...|super fast shippi...|                   |    9.99|\n",
      "|http://www.google...|power production ...|power production ...|                   |  498.95|\n",
      "|http://www.google...|allume aquazone b...|mac os x 10.3 or ...|                   |   19.99|\n",
      "|http://www.google...|global software a...|global software a...|                   |    9.08|\n",
      "|http://www.google...|adobe indesign cs...|system requiremen...|                   |  205.99|\n",
      "+--------------------+--------------------+--------------------+-------------------+--------+\n",
      "\n"
     ]
    }
   ],
   "source": [
    "df2.show()"
   ]
  },
  {
   "cell_type": "markdown",
   "metadata": {},
   "source": [
    "#Goal is to do Entity Resolution based on Jaccard Similarity \n",
    "### - Finding items in two tables representing same item\n",
    "### - Similarity cue = Name of the item and its manufacturer"
   ]
  },
  {
   "cell_type": "code",
   "execution_count": 30,
   "metadata": {
    "collapsed": false
   },
   "outputs": [],
   "source": [
    "df1 = df1.withColumn('joinKey', concat_ws(\" \", *[\"title\", \"manufacturer\"]))"
   ]
  },
  {
   "cell_type": "code",
   "execution_count": 31,
   "metadata": {
    "collapsed": false
   },
   "outputs": [],
   "source": [
    "df2 = df2.withColumn('joinKey', concat_ws(\" \", *[\"name\", \"manufacturer\"]))"
   ]
  },
  {
   "cell_type": "code",
   "execution_count": 32,
   "metadata": {
    "collapsed": true
   },
   "outputs": [],
   "source": [
    "#Loading the stop word list\n",
    "f = open(\"S:/data/amazon-google-sample/stopwords.txt\", \"r\")"
   ]
  },
  {
   "cell_type": "code",
   "execution_count": 33,
   "metadata": {
    "collapsed": false
   },
   "outputs": [],
   "source": [
    "stopWords = set(f.read().split(\"\\n\"))"
   ]
  },
  {
   "cell_type": "code",
   "execution_count": 34,
   "metadata": {
    "collapsed": true
   },
   "outputs": [],
   "source": [
    "def tokenizer(string):\n",
    "    tokens = re.split(r'\\W+', string) #split by non-alphanumeric character\n",
    "    cleanedTokens = [t.lower() for t in tokens]\n",
    "    return [x for x in cleanedTokens if x not in stopWords] #list containing tokens without stopwords"
   ]
  },
  {
   "cell_type": "code",
   "execution_count": 37,
   "metadata": {
    "collapsed": false
   },
   "outputs": [],
   "source": [
    "tokenizerUDF = udf(tokenizer, ArrayType(StringType()))\n",
    "df1 = df1.withColumn('joinKey', tokenizerUDF(df1.joinKey))"
   ]
  },
  {
   "cell_type": "code",
   "execution_count": 38,
   "metadata": {
    "collapsed": false
   },
   "outputs": [],
   "source": [
    "df2 = df2.withColumn('joinKey', tokenizerUDF(df2.joinKey))"
   ]
  },
  {
   "cell_type": "code",
   "execution_count": 39,
   "metadata": {
    "collapsed": false
   },
   "outputs": [
    {
     "name": "stdout",
     "output_type": "stream",
     "text": [
      "+----------+--------------------+--------------------+--------------------+------+--------------------+\n",
      "|        id|               title|         description|        manufacturer| price|             joinKey|\n",
      "+----------+--------------------+--------------------+--------------------+------+--------------------+\n",
      "|b0002mg5uk|  iview mediapro 2.5|                    |    global marketing|199.99|[iview, mediapro,...|\n",
      "|b0002jtvng|bias deck le 3.5 ...|if you want to re...|                bias|  99.0|[bias, deck, le, ...|\n",
      "|b0007lw22g|apple ilife '06 (...|ilife '06 is the ...|      apple computer|  79.0|[apple, ilife, 06...|\n",
      "|b00007kh02|extensis intellih...|extensis intellih...|extensis corporation|199.99|[extensis, intell...|\n",
      "|b000saufpw|dk amazing animal...|meet your cd host...|global software p...|  9.99|[dk, amazing, ani...|\n",
      "|b000v7vz1u|onone essentials ...|                    |      onone software| 59.95|[onone, essential...|\n",
      "|b00006hvvo|upg sgms 1000 inc...|today enterprises...|  sonic systems inc.|   0.0|[upg, sgms, 1000,...|\n",
      "|b0000vyk1o|    power director 3|powerdirector 3 -...|avanquest publish...| 79.95|[power, director,...|\n",
      "|b000jx1kma|aircraft power pa...|aircraft powerpac...|            red mile| 29.99|[aircraft, power,...|\n",
      "|b000licg1m|power production ...|with storyboard a...|    power production|   0.0|[power, productio...|\n",
      "|b00002s6sc|punch 5 in 1 home...|5 in 1 home desig...|     punch! software| 39.99|[punch, 5, 1, hom...|\n",
      "|b000gaqlxe|aquazone bass edi...|aquazone bass edi...|smith micro software| 19.99|[aquazone, bass, ...|\n",
      "|b00013wh0w|handmark oxford a...|the oxford americ...|       handmark inc.|   0.0|[handmark, oxford...|\n",
      "|b000ndibbo|adobe indesign cs...|note: this is the...|               adobe| 199.0|[adobe, indesign,...|\n",
      "|b000ndibge|adobe creative su...|adobe creative su...|               adobe| 999.0|[adobe, creative,...|\n",
      "|b000in8n30|             hijack2|                    |  navarre (software)| 39.95|[hijack2, navarre...|\n",
      "+----------+--------------------+--------------------+--------------------+------+--------------------+\n",
      "\n"
     ]
    }
   ],
   "source": [
    "df1.show() #joinKey contains list of all the important words collect from the title/name and manufacturer column"
   ]
  },
  {
   "cell_type": "code",
   "execution_count": 40,
   "metadata": {
    "collapsed": true
   },
   "outputs": [],
   "source": [
    "invIdx1 = df1.select(df1['id'], explode(df1['joinKey']).alias('token')) #creating id-token pair for inverted indexing"
   ]
  },
  {
   "cell_type": "code",
   "execution_count": 41,
   "metadata": {
    "collapsed": false
   },
   "outputs": [
    {
     "name": "stdout",
     "output_type": "stream",
     "text": [
      "+----------+---------+\n",
      "|        id|    token|\n",
      "+----------+---------+\n",
      "|b0002mg5uk|    iview|\n",
      "|b0002mg5uk| mediapro|\n",
      "|b0002mg5uk|        2|\n",
      "|b0002mg5uk|        5|\n",
      "|b0002mg5uk|   global|\n",
      "|b0002mg5uk|marketing|\n",
      "|b0002jtvng|     bias|\n",
      "|b0002jtvng|     deck|\n",
      "|b0002jtvng|       le|\n",
      "|b0002jtvng|        3|\n",
      "|b0002jtvng|        5|\n",
      "|b0002jtvng|macintosh|\n",
      "|b0002jtvng|       cd|\n",
      "|b0002jtvng|     bias|\n",
      "|b0007lw22g|    apple|\n",
      "|b0007lw22g|    ilife|\n",
      "|b0007lw22g|       06|\n",
      "|b0007lw22g|      mac|\n",
      "|b0007lw22g|      dvd|\n",
      "|b0007lw22g|    older|\n",
      "+----------+---------+\n",
      "only showing top 20 rows\n",
      "\n"
     ]
    }
   ],
   "source": [
    "invIdx1.show()"
   ]
  },
  {
   "cell_type": "code",
   "execution_count": 42,
   "metadata": {
    "collapsed": true
   },
   "outputs": [],
   "source": [
    "invIdx2 = df2.select(df2['id'], explode(df2['joinKey']).alias('token'))"
   ]
  },
  {
   "cell_type": "code",
   "execution_count": 43,
   "metadata": {
    "collapsed": false
   },
   "outputs": [
    {
     "name": "stdout",
     "output_type": "stream",
     "text": [
      "+--------------------+------------+\n",
      "|                  id|       token|\n",
      "+--------------------+------------+\n",
      "|http://www.google...|       punch|\n",
      "|http://www.google...|    software|\n",
      "|http://www.google...|       20100|\n",
      "|http://www.google...|       punch|\n",
      "|http://www.google...|           5|\n",
      "|http://www.google...|           1|\n",
      "|http://www.google...|        home|\n",
      "|http://www.google...|      design|\n",
      "|http://www.google...|       punch|\n",
      "|http://www.google...|    software|\n",
      "|http://www.google...|       onone|\n",
      "|http://www.google...|    software|\n",
      "|http://www.google...|         ice|\n",
      "|http://www.google...|       10770|\n",
      "|http://www.google...|intellihance|\n",
      "|http://www.google...|         pro|\n",
      "|http://www.google...|           4|\n",
      "|http://www.google...|           1|\n",
      "|http://www.google...|         mac|\n",
      "|http://www.google...|         win|\n",
      "+--------------------+------------+\n",
      "only showing top 20 rows\n",
      "\n"
     ]
    }
   ],
   "source": [
    "invIdx2.show()"
   ]
  },
  {
   "cell_type": "code",
   "execution_count": 58,
   "metadata": {
    "collapsed": true
   },
   "outputs": [],
   "source": [
    "joined = invIdx1.join(invIdx2, invIdx1.token == invIdx2.token).select(invIdx1.id.alias(\"id1\"), invIdx2.id.alias(\"id2\")).cache()"
   ]
  },
  {
   "cell_type": "code",
   "execution_count": 59,
   "metadata": {
    "collapsed": false
   },
   "outputs": [
    {
     "name": "stdout",
     "output_type": "stream",
     "text": [
      "+----------+--------------------+\n",
      "|       id1|                 id2|\n",
      "+----------+--------------------+\n",
      "|b0002mg5uk|http://www.google...|\n",
      "|b0002mg5uk|http://www.google...|\n",
      "|b0002mg5uk|http://www.google...|\n",
      "|b0002mg5uk|http://www.google...|\n",
      "|b0002mg5uk|http://www.google...|\n",
      "|b0002mg5uk|http://www.google...|\n",
      "|b0002mg5uk|http://www.google...|\n",
      "|b0002jtvng|http://www.google...|\n",
      "|b0002jtvng|http://www.google...|\n",
      "|b0002jtvng|http://www.google...|\n",
      "|b0002jtvng|http://www.google...|\n",
      "|b0002jtvng|http://www.google...|\n",
      "|b0002jtvng|http://www.google...|\n",
      "|b0002jtvng|http://www.google...|\n",
      "|b0002jtvng|http://www.google...|\n",
      "|b0007lw22g|http://www.google...|\n",
      "|b0007lw22g|http://www.google...|\n",
      "|b0007lw22g|http://www.google...|\n",
      "|b0007lw22g|http://www.google...|\n",
      "|b0007lw22g|http://www.google...|\n",
      "+----------+--------------------+\n",
      "only showing top 20 rows\n",
      "\n"
     ]
    }
   ],
   "source": [
    "joined.show() #join based on only the id from both df1 and df2 where atleast one token is similar"
   ]
  },
  {
   "cell_type": "code",
   "execution_count": 60,
   "metadata": {
    "collapsed": true
   },
   "outputs": [],
   "source": [
    "#joining amazon table with id1 and then joining the google table with id2\n",
    "joined = joined.join(df1, joined['id1'] == df1['id']).join(df2, joined['id2'] == df2['id'])\\\n",
    ".select(joined['id1'], df1['joinKey'].alias('joinKey1'), joined['id2'], df2['joinKey'].alias('joinKey2')).cache()\n",
    "#after the join operation the dataframe contains 1.amazonID of an item 2. amazon token  3. googleID 4. google token"
   ]
  },
  {
   "cell_type": "code",
   "execution_count": 62,
   "metadata": {
    "collapsed": false
   },
   "outputs": [],
   "source": [
    "joined.registerTempTable(\"candidates\")"
   ]
  },
  {
   "cell_type": "code",
   "execution_count": 63,
   "metadata": {
    "collapsed": true
   },
   "outputs": [],
   "source": [
    "candidateDF = sqlCt.sql(\"select id1, first(joinKey1) as joinKey1, id2, first(joinKey2) as joinKey2 from candidates group by id1, id2\").cache()"
   ]
  },
  {
   "cell_type": "code",
   "execution_count": 64,
   "metadata": {
    "collapsed": false
   },
   "outputs": [
    {
     "data": {
      "text/plain": [
       "121"
      ]
     },
     "execution_count": 64,
     "metadata": {},
     "output_type": "execute_result"
    }
   ],
   "source": [
    "candidateDF.count() #group by id1 id2 only to consider the distincts"
   ]
  },
  {
   "cell_type": "markdown",
   "metadata": {},
   "source": [
    "##Filtering based on Jaccard Similarity"
   ]
  },
  {
   "cell_type": "code",
   "execution_count": 68,
   "metadata": {
    "collapsed": true
   },
   "outputs": [],
   "source": [
    "def jaccardsim(row1,row2):\n",
    "    intersection = len(set.intersection(*[set(row1), set(row2)]))\n",
    "    union = len(set.union(*[set(row1), set(row2)]))\n",
    "    return intersection/float(union)"
   ]
  },
  {
   "cell_type": "code",
   "execution_count": 70,
   "metadata": {
    "collapsed": false
   },
   "outputs": [],
   "source": [
    "jaccardUDF = udf(jaccardsim, FloatType())\n",
    "resultDF = candidateDF.withColumn('jaccard', jaccardUDF(candidateDF.joinKey1, candidateDF.joinKey2))"
   ]
  },
  {
   "cell_type": "code",
   "execution_count": 71,
   "metadata": {
    "collapsed": false
   },
   "outputs": [
    {
     "name": "stdout",
     "output_type": "stream",
     "text": [
      "+----------+--------------------+--------------------+--------------------+-----------+\n",
      "|       id1|            joinKey1|                 id2|            joinKey2|    jaccard|\n",
      "+----------+--------------------+--------------------+--------------------+-----------+\n",
      "|b0002mg5uk|[iview, mediapro,...|http://www.google...|[punch, software,...|0.083333336|\n",
      "|b00007kh02|[extensis, intell...|http://www.google...|[onone, software,...|  0.2631579|\n",
      "|b00002s6sc|[punch, 5, 1, hom...|http://www.google...|[global, software...| 0.11111111|\n",
      "|b000gaqlxe|[aquazone, bass, ...|http://www.google...|[power, productio...|0.083333336|\n",
      "|b0000vyk1o|[power, director,...|http://www.google...|[adobe, cs3, web,...|0.083333336|\n",
      "|b000gaqlxe|[aquazone, bass, ...|http://www.google...|[global, software...| 0.05263158|\n",
      "|b000saufpw|[dk, amazing, ani...|http://www.google...|[bias, deck, 3, 5...|0.055555556|\n",
      "|b0000vyk1o|[power, director,...|http://www.google...|[adobe, indesign,...|0.071428575|\n",
      "|b00006hvvo|[upg, sgms, 1000,...|http://www.google...|[adobe, indesign,...| 0.06666667|\n",
      "|b000saufpw|[dk, amazing, ani...|http://www.google...|[onone, software,...|     0.0625|\n",
      "|b000ndibge|[adobe, creative,...|http://www.google...|[onone, software,...|  0.0952381|\n",
      "|b000jx1kma|[aircraft, power,...|http://www.google...|[red, mile, enter...|        0.5|\n",
      "|b000ndibbo|[adobe, indesign,...|http://www.google...|[onone, software,...| 0.06666667|\n",
      "|b000ndibge|[adobe, creative,...|http://www.google...|[hijack2, identit...|0.083333336|\n",
      "|b000in8n30|[hijack2, navarre...|http://www.google...|[punch, software,...|        0.1|\n",
      "|b000jx1kma|[aircraft, power,...|http://www.google...|[power, productio...|0.071428575|\n",
      "|b00006hvvo|[upg, sgms, 1000,...|http://www.google...|[bias, deck, 3, 5...|       0.05|\n",
      "|b000v7vz1u|[onone, essential...|http://www.google...|[punch, software,...| 0.06666667|\n",
      "|b000saufpw|[dk, amazing, ani...|http://www.google...|[punch, software,...| 0.16666667|\n",
      "|b00006hvvo|[upg, sgms, 1000,...|http://www.google...|[onone, software,...|0.055555556|\n",
      "+----------+--------------------+--------------------+--------------------+-----------+\n",
      "only showing top 20 rows\n",
      "\n"
     ]
    }
   ],
   "source": [
    "resultDF.show()"
   ]
  },
  {
   "cell_type": "code",
   "execution_count": 73,
   "metadata": {
    "collapsed": false
   },
   "outputs": [],
   "source": [
    "resultDF = resultDF.where(resultDF.jaccard >= 0.4)"
   ]
  },
  {
   "cell_type": "code",
   "execution_count": 74,
   "metadata": {
    "collapsed": false
   },
   "outputs": [
    {
     "data": {
      "text/plain": [
       "8"
      ]
     },
     "execution_count": 74,
     "metadata": {},
     "output_type": "execute_result"
    }
   ],
   "source": [
    "resultDF.count()"
   ]
  },
  {
   "cell_type": "markdown",
   "metadata": {},
   "source": [
    "##There are 8 items which can be considered to be same among both the tables given Jaccard Score >= 0.4"
   ]
  },
  {
   "cell_type": "code",
   "execution_count": null,
   "metadata": {
    "collapsed": true
   },
   "outputs": [],
   "source": []
  }
 ],
 "metadata": {
  "kernelspec": {
   "display_name": "Python 2",
   "language": "python",
   "name": "python2"
  },
  "language_info": {
   "codemirror_mode": {
    "name": "ipython",
    "version": 2
   },
   "file_extension": ".py",
   "mimetype": "text/x-python",
   "name": "python",
   "nbconvert_exporter": "python",
   "pygments_lexer": "ipython2",
   "version": "2.7.10"
  }
 },
 "nbformat": 4,
 "nbformat_minor": 0
}
